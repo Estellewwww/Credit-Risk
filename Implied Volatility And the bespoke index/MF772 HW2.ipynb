{
 "cells": [
  {
   "cell_type": "markdown",
   "id": "7ffa9a68",
   "metadata": {},
   "source": [
    "### MF772 HW2\n",
    "### Sike Yang"
   ]
  },
  {
   "cell_type": "code",
   "execution_count": 13,
   "id": "7d3eb723",
   "metadata": {},
   "outputs": [],
   "source": [
    "#1a\n",
    "Entity = [\"Brazil\",\"Turkey\",\"Russia\",\"Chile\"]\n",
    "Weight = [0.25,0.25,0.25,0.25]\n",
    "Spread = [223,443,116,56]"
   ]
  },
  {
   "cell_type": "code",
   "execution_count": 14,
   "id": "b699ce60",
   "metadata": {},
   "outputs": [],
   "source": [
    "import pandas as pd\n",
    "df = pd.DataFrame({\"Entity\": Entity, \"Weight\":Weight, \"Spread\":Spread})"
   ]
  },
  {
   "cell_type": "code",
   "execution_count": 15,
   "id": "c2b7a3ec",
   "metadata": {},
   "outputs": [
    {
     "data": {
      "text/html": [
       "<div>\n",
       "<style scoped>\n",
       "    .dataframe tbody tr th:only-of-type {\n",
       "        vertical-align: middle;\n",
       "    }\n",
       "\n",
       "    .dataframe tbody tr th {\n",
       "        vertical-align: top;\n",
       "    }\n",
       "\n",
       "    .dataframe thead th {\n",
       "        text-align: right;\n",
       "    }\n",
       "</style>\n",
       "<table border=\"1\" class=\"dataframe\">\n",
       "  <thead>\n",
       "    <tr style=\"text-align: right;\">\n",
       "      <th></th>\n",
       "      <th>Entity</th>\n",
       "      <th>Weight</th>\n",
       "      <th>Spread</th>\n",
       "    </tr>\n",
       "  </thead>\n",
       "  <tbody>\n",
       "    <tr>\n",
       "      <th>0</th>\n",
       "      <td>Brazil</td>\n",
       "      <td>0.25</td>\n",
       "      <td>223</td>\n",
       "    </tr>\n",
       "    <tr>\n",
       "      <th>1</th>\n",
       "      <td>Turkey</td>\n",
       "      <td>0.25</td>\n",
       "      <td>443</td>\n",
       "    </tr>\n",
       "    <tr>\n",
       "      <th>2</th>\n",
       "      <td>Russia</td>\n",
       "      <td>0.25</td>\n",
       "      <td>116</td>\n",
       "    </tr>\n",
       "    <tr>\n",
       "      <th>3</th>\n",
       "      <td>Chile</td>\n",
       "      <td>0.25</td>\n",
       "      <td>56</td>\n",
       "    </tr>\n",
       "  </tbody>\n",
       "</table>\n",
       "</div>"
      ],
      "text/plain": [
       "   Entity  Weight  Spread\n",
       "0  Brazil    0.25     223\n",
       "1  Turkey    0.25     443\n",
       "2  Russia    0.25     116\n",
       "3   Chile    0.25      56"
      ]
     },
     "execution_count": 15,
     "metadata": {},
     "output_type": "execute_result"
    }
   ],
   "source": [
    "df"
   ]
  },
  {
   "cell_type": "code",
   "execution_count": 18,
   "id": "eac6b7da",
   "metadata": {},
   "outputs": [],
   "source": [
    "import numpy as np\n",
    "R = 0.4\n",
    "hrate = []\n",
    "sprob = []\n",
    "for i in range(len(df[\"Spread\"])):\n",
    "    hrate.append(df[\"Spread\"][i]/(1000*(1-R)))\n",
    "    sprob.append(np.exp(- hrate[i] * 5))\n",
    "df[\"hrate\"] = hrate\n",
    "df[\"sprob\"] = sprob "
   ]
  },
  {
   "cell_type": "code",
   "execution_count": 19,
   "id": "9dc7b82f",
   "metadata": {},
   "outputs": [
    {
     "data": {
      "text/html": [
       "<div>\n",
       "<style scoped>\n",
       "    .dataframe tbody tr th:only-of-type {\n",
       "        vertical-align: middle;\n",
       "    }\n",
       "\n",
       "    .dataframe tbody tr th {\n",
       "        vertical-align: top;\n",
       "    }\n",
       "\n",
       "    .dataframe thead th {\n",
       "        text-align: right;\n",
       "    }\n",
       "</style>\n",
       "<table border=\"1\" class=\"dataframe\">\n",
       "  <thead>\n",
       "    <tr style=\"text-align: right;\">\n",
       "      <th></th>\n",
       "      <th>Entity</th>\n",
       "      <th>Weight</th>\n",
       "      <th>Spread</th>\n",
       "      <th>hrate</th>\n",
       "      <th>sprob</th>\n",
       "    </tr>\n",
       "  </thead>\n",
       "  <tbody>\n",
       "    <tr>\n",
       "      <th>0</th>\n",
       "      <td>Brazil</td>\n",
       "      <td>0.25</td>\n",
       "      <td>223</td>\n",
       "      <td>0.371667</td>\n",
       "      <td>0.155932</td>\n",
       "    </tr>\n",
       "    <tr>\n",
       "      <th>1</th>\n",
       "      <td>Turkey</td>\n",
       "      <td>0.25</td>\n",
       "      <td>443</td>\n",
       "      <td>0.738333</td>\n",
       "      <td>0.024930</td>\n",
       "    </tr>\n",
       "    <tr>\n",
       "      <th>2</th>\n",
       "      <td>Russia</td>\n",
       "      <td>0.25</td>\n",
       "      <td>116</td>\n",
       "      <td>0.193333</td>\n",
       "      <td>0.380349</td>\n",
       "    </tr>\n",
       "    <tr>\n",
       "      <th>3</th>\n",
       "      <td>Chile</td>\n",
       "      <td>0.25</td>\n",
       "      <td>56</td>\n",
       "      <td>0.093333</td>\n",
       "      <td>0.627089</td>\n",
       "    </tr>\n",
       "  </tbody>\n",
       "</table>\n",
       "</div>"
      ],
      "text/plain": [
       "   Entity  Weight  Spread     hrate     sprob\n",
       "0  Brazil    0.25     223  0.371667  0.155932\n",
       "1  Turkey    0.25     443  0.738333  0.024930\n",
       "2  Russia    0.25     116  0.193333  0.380349\n",
       "3   Chile    0.25      56  0.093333  0.627089"
      ]
     },
     "execution_count": 19,
     "metadata": {},
     "output_type": "execute_result"
    }
   ],
   "source": [
    "df"
   ]
  },
  {
   "cell_type": "code",
   "execution_count": 44,
   "id": "bfad589c",
   "metadata": {},
   "outputs": [],
   "source": [
    "#1b\n",
    "premium_leg = 0\n",
    "for i in range(4):\n",
    "    premium_leg +=  df[\"Weight\"][i] *df[\"sprob\"][i] *5"
   ]
  },
  {
   "cell_type": "code",
   "execution_count": 45,
   "id": "8cf5b8d8",
   "metadata": {},
   "outputs": [],
   "source": [
    "default_leg = 0\n",
    "for i in range(4):\n",
    "    default_leg += df[\"Weight\"][i] * df[\"sprob\"][i]* df[\"hrate\"][i]* (1-R)"
   ]
  },
  {
   "cell_type": "code",
   "execution_count": 46,
   "id": "a055a636",
   "metadata": {},
   "outputs": [],
   "source": [
    "from sympy import symbols, Eq, solve\n",
    "x = symbols('x')\n",
    "equation = Eq(premium_leg*x, default_leg)\n",
    "SI = solve(equation, x)"
   ]
  },
  {
   "cell_type": "code",
   "execution_count": 47,
   "id": "7393069a",
   "metadata": {},
   "outputs": [
    {
     "data": {
      "text/plain": [
       "[0.0210476249069017]"
      ]
     },
     "execution_count": 47,
     "metadata": {},
     "output_type": "execute_result"
    }
   ],
   "source": [
    "SI"
   ]
  },
  {
   "cell_type": "markdown",
   "id": "6f06346f",
   "metadata": {},
   "source": [
    "The fair spread of the bespoke index is 210bps"
   ]
  },
  {
   "cell_type": "markdown",
   "id": "b8dc20b9",
   "metadata": {},
   "source": [
    "#### 1c\n",
    "The contractual spread C is 200bps and the fair spread SI is 210bps, C-S<0, so the value is negative. I would not enter this contract and this is short protection."
   ]
  },
  {
   "cell_type": "markdown",
   "id": "5a4b9abf",
   "metadata": {},
   "source": [
    "#### 1d\n",
    "Buy Protection on Brazil and Russia:\n",
    "Buy Credit Default Swaps (CDS) protection on Brazil and Russia.\n",
    "This involves paying a premium to receive compensation in case of default by Brazil and Russia.\n",
    "This strategy is based on the belief that there might be an increased credit risk associated with these entities.\n",
    "\n",
    "Sell Protection on Turkey and Chile:\n",
    "Sell Credit Default Swaps (CDS) protection on Turkey and Chile.\n",
    "This means you receive a premium for providing protection against default by Turkey and Chile.\n",
    "This strategy implies confidence in the creditworthiness of Turkey and Chile.\n",
    "\n",
    "Create a Bespoke Index:\n",
    "Combine the single-names (Brazil, Turkey, Russia, Chile) and allocate weights based on their 5-year Par Spreads."
   ]
  },
  {
   "cell_type": "code",
   "execution_count": 20,
   "id": "693133a9",
   "metadata": {},
   "outputs": [],
   "source": [
    "#2a\n",
    "hyg = pd.read_csv(\"/Users/estelle/Desktop/MF772/HYG.csv\")\n",
    "jnk = pd.read_csv(\"/Users/estelle/Desktop/MF772/JNK.csv\")\n",
    "lqd = pd.read_csv(\"/Users/estelle/Desktop/MF772/LQD.csv\")"
   ]
  },
  {
   "cell_type": "code",
   "execution_count": 28,
   "id": "29226fa9",
   "metadata": {},
   "outputs": [],
   "source": [
    "data = {\"Date\": hyg[\"Date\"], \"HYG\": hyg[\"Adj Close\"], \"JNK\":jnk[\"Adj Close\"], \"LQD\":lqd[\"Adj Close\"]}\n",
    "data = pd.DataFrame(data)"
   ]
  },
  {
   "cell_type": "code",
   "execution_count": 30,
   "id": "720a45c3",
   "metadata": {},
   "outputs": [
    {
     "data": {
      "text/html": [
       "<div>\n",
       "<style scoped>\n",
       "    .dataframe tbody tr th:only-of-type {\n",
       "        vertical-align: middle;\n",
       "    }\n",
       "\n",
       "    .dataframe tbody tr th {\n",
       "        vertical-align: top;\n",
       "    }\n",
       "\n",
       "    .dataframe thead th {\n",
       "        text-align: right;\n",
       "    }\n",
       "</style>\n",
       "<table border=\"1\" class=\"dataframe\">\n",
       "  <thead>\n",
       "    <tr style=\"text-align: right;\">\n",
       "      <th></th>\n",
       "      <th>HYG</th>\n",
       "      <th>JNK</th>\n",
       "      <th>LQD</th>\n",
       "    </tr>\n",
       "    <tr>\n",
       "      <th>Date</th>\n",
       "      <th></th>\n",
       "      <th></th>\n",
       "      <th></th>\n",
       "    </tr>\n",
       "  </thead>\n",
       "  <tbody>\n",
       "    <tr>\n",
       "      <th>2018-10-05</th>\n",
       "      <td>66.336151</td>\n",
       "      <td>81.181076</td>\n",
       "      <td>96.630058</td>\n",
       "    </tr>\n",
       "    <tr>\n",
       "      <th>2018-10-08</th>\n",
       "      <td>66.188347</td>\n",
       "      <td>80.998375</td>\n",
       "      <td>96.527390</td>\n",
       "    </tr>\n",
       "    <tr>\n",
       "      <th>2018-10-09</th>\n",
       "      <td>66.289482</td>\n",
       "      <td>81.089722</td>\n",
       "      <td>96.801186</td>\n",
       "    </tr>\n",
       "    <tr>\n",
       "      <th>2018-10-10</th>\n",
       "      <td>65.815109</td>\n",
       "      <td>80.450348</td>\n",
       "      <td>96.535950</td>\n",
       "    </tr>\n",
       "    <tr>\n",
       "      <th>2018-10-11</th>\n",
       "      <td>65.869492</td>\n",
       "      <td>80.655823</td>\n",
       "      <td>96.938095</td>\n",
       "    </tr>\n",
       "    <tr>\n",
       "      <th>...</th>\n",
       "      <td>...</td>\n",
       "      <td>...</td>\n",
       "      <td>...</td>\n",
       "    </tr>\n",
       "    <tr>\n",
       "      <th>2023-09-28</th>\n",
       "      <td>73.444427</td>\n",
       "      <td>89.948662</td>\n",
       "      <td>101.840134</td>\n",
       "    </tr>\n",
       "    <tr>\n",
       "      <th>2023-09-29</th>\n",
       "      <td>73.335007</td>\n",
       "      <td>89.889000</td>\n",
       "      <td>101.620995</td>\n",
       "    </tr>\n",
       "    <tr>\n",
       "      <th>2023-10-02</th>\n",
       "      <td>72.889999</td>\n",
       "      <td>89.339996</td>\n",
       "      <td>100.690002</td>\n",
       "    </tr>\n",
       "    <tr>\n",
       "      <th>2023-10-03</th>\n",
       "      <td>72.150002</td>\n",
       "      <td>88.430000</td>\n",
       "      <td>99.529999</td>\n",
       "    </tr>\n",
       "    <tr>\n",
       "      <th>2023-10-04</th>\n",
       "      <td>72.519997</td>\n",
       "      <td>88.760002</td>\n",
       "      <td>100.400002</td>\n",
       "    </tr>\n",
       "  </tbody>\n",
       "</table>\n",
       "<p>1257 rows × 3 columns</p>\n",
       "</div>"
      ],
      "text/plain": [
       "                  HYG        JNK         LQD\n",
       "Date                                        \n",
       "2018-10-05  66.336151  81.181076   96.630058\n",
       "2018-10-08  66.188347  80.998375   96.527390\n",
       "2018-10-09  66.289482  81.089722   96.801186\n",
       "2018-10-10  65.815109  80.450348   96.535950\n",
       "2018-10-11  65.869492  80.655823   96.938095\n",
       "...               ...        ...         ...\n",
       "2023-09-28  73.444427  89.948662  101.840134\n",
       "2023-09-29  73.335007  89.889000  101.620995\n",
       "2023-10-02  72.889999  89.339996  100.690002\n",
       "2023-10-03  72.150002  88.430000   99.529999\n",
       "2023-10-04  72.519997  88.760002  100.400002\n",
       "\n",
       "[1257 rows x 3 columns]"
      ]
     },
     "execution_count": 30,
     "metadata": {},
     "output_type": "execute_result"
    }
   ],
   "source": [
    "data.set_index(\"Date\",inplace=True)\n",
    "data"
   ]
  },
  {
   "cell_type": "code",
   "execution_count": 59,
   "id": "9e73d6af",
   "metadata": {},
   "outputs": [],
   "source": [
    "#2b\n",
    "window_size = 252\n",
    "returns = np.log(1+data.pct_change()).dropna()\n",
    "anl_vol = returns.rolling(window=window_size, min_periods=1).std()* np.sqrt(252)\n",
    "anl_vol = anl_vol.dropna()"
   ]
  },
  {
   "cell_type": "code",
   "execution_count": 60,
   "id": "1a5cef38",
   "metadata": {},
   "outputs": [
    {
     "data": {
      "text/html": [
       "<div>\n",
       "<style scoped>\n",
       "    .dataframe tbody tr th:only-of-type {\n",
       "        vertical-align: middle;\n",
       "    }\n",
       "\n",
       "    .dataframe tbody tr th {\n",
       "        vertical-align: top;\n",
       "    }\n",
       "\n",
       "    .dataframe thead th {\n",
       "        text-align: right;\n",
       "    }\n",
       "</style>\n",
       "<table border=\"1\" class=\"dataframe\">\n",
       "  <thead>\n",
       "    <tr style=\"text-align: right;\">\n",
       "      <th></th>\n",
       "      <th>HYG</th>\n",
       "      <th>JNK</th>\n",
       "      <th>LQD</th>\n",
       "    </tr>\n",
       "    <tr>\n",
       "      <th>Date</th>\n",
       "      <th></th>\n",
       "      <th></th>\n",
       "      <th></th>\n",
       "    </tr>\n",
       "  </thead>\n",
       "  <tbody>\n",
       "    <tr>\n",
       "      <th>2018-10-09</th>\n",
       "      <td>0.042177</td>\n",
       "      <td>0.037943</td>\n",
       "      <td>0.043727</td>\n",
       "    </tr>\n",
       "    <tr>\n",
       "      <th>2018-10-10</th>\n",
       "      <td>0.069339</td>\n",
       "      <td>0.072536</td>\n",
       "      <td>0.045409</td>\n",
       "    </tr>\n",
       "    <tr>\n",
       "      <th>2018-10-11</th>\n",
       "      <td>0.062905</td>\n",
       "      <td>0.073882</td>\n",
       "      <td>0.051382</td>\n",
       "    </tr>\n",
       "    <tr>\n",
       "      <th>2018-10-12</th>\n",
       "      <td>0.074048</td>\n",
       "      <td>0.079755</td>\n",
       "      <td>0.044715</td>\n",
       "    </tr>\n",
       "    <tr>\n",
       "      <th>2018-10-15</th>\n",
       "      <td>0.066270</td>\n",
       "      <td>0.072474</td>\n",
       "      <td>0.043216</td>\n",
       "    </tr>\n",
       "    <tr>\n",
       "      <th>...</th>\n",
       "      <td>...</td>\n",
       "      <td>...</td>\n",
       "      <td>...</td>\n",
       "    </tr>\n",
       "    <tr>\n",
       "      <th>2023-09-28</th>\n",
       "      <td>0.096405</td>\n",
       "      <td>0.096610</td>\n",
       "      <td>0.104762</td>\n",
       "    </tr>\n",
       "    <tr>\n",
       "      <th>2023-09-29</th>\n",
       "      <td>0.094840</td>\n",
       "      <td>0.095376</td>\n",
       "      <td>0.102898</td>\n",
       "    </tr>\n",
       "    <tr>\n",
       "      <th>2023-10-02</th>\n",
       "      <td>0.094554</td>\n",
       "      <td>0.095229</td>\n",
       "      <td>0.103040</td>\n",
       "    </tr>\n",
       "    <tr>\n",
       "      <th>2023-10-03</th>\n",
       "      <td>0.095011</td>\n",
       "      <td>0.095691</td>\n",
       "      <td>0.103668</td>\n",
       "    </tr>\n",
       "    <tr>\n",
       "      <th>2023-10-04</th>\n",
       "      <td>0.094273</td>\n",
       "      <td>0.095238</td>\n",
       "      <td>0.102403</td>\n",
       "    </tr>\n",
       "  </tbody>\n",
       "</table>\n",
       "<p>1255 rows × 3 columns</p>\n",
       "</div>"
      ],
      "text/plain": [
       "                 HYG       JNK       LQD\n",
       "Date                                    \n",
       "2018-10-09  0.042177  0.037943  0.043727\n",
       "2018-10-10  0.069339  0.072536  0.045409\n",
       "2018-10-11  0.062905  0.073882  0.051382\n",
       "2018-10-12  0.074048  0.079755  0.044715\n",
       "2018-10-15  0.066270  0.072474  0.043216\n",
       "...              ...       ...       ...\n",
       "2023-09-28  0.096405  0.096610  0.104762\n",
       "2023-09-29  0.094840  0.095376  0.102898\n",
       "2023-10-02  0.094554  0.095229  0.103040\n",
       "2023-10-03  0.095011  0.095691  0.103668\n",
       "2023-10-04  0.094273  0.095238  0.102403\n",
       "\n",
       "[1255 rows x 3 columns]"
      ]
     },
     "execution_count": 60,
     "metadata": {},
     "output_type": "execute_result"
    }
   ],
   "source": [
    "anl_vol"
   ]
  },
  {
   "cell_type": "code",
   "execution_count": 61,
   "id": "76c891e8",
   "metadata": {},
   "outputs": [
    {
     "data": {
      "image/png": "[encoded data removed]",
      "text/plain": [
       "<Figure size 720x360 with 1 Axes>"
      ]
     },
     "metadata": {
      "needs_background": "light"
     },
     "output_type": "display_data"
    }
   ],
   "source": [
    "import matplotlib.pyplot as plt\n",
    "plt.figure(figsize=(10, 5))\n",
    "plt.plot(anl_vol.index, anl_vol[\"HYG\"], label='HYG Volatility', color='blue')\n",
    "plt.plot(anl_vol.index, anl_vol[\"JNK\"], label='JNK Volatility', color='pink')\n",
    "plt.plot(anl_vol.index, anl_vol[\"LQD\"], label='LQD Volatility', color='black')\n",
    "plt.title('Rolling 1y Realized Volatility')\n",
    "plt.xlabel('Date')\n",
    "plt.ylabel('Volatility')\n",
    "plt.xticks(anl_vol.index[::200])  \n",
    "plt.legend()\n",
    "plt.show()"
   ]
  },
  {
   "cell_type": "markdown",
   "id": "bdafd3f6",
   "metadata": {},
   "source": [
    "Basically three ETFS have the similar pattern. LQD has a smaller change in volatility and has a lower volatility in return from 2018 to 2020 but shows more volatility from 2021.HYG and JNK have a more similar volatility distribution."
   ]
  },
  {
   "cell_type": "code",
   "execution_count": 62,
   "id": "5b926e8a",
   "metadata": {},
   "outputs": [
    {
     "data": {
      "text/html": [
       "<div>\n",
       "<style scoped>\n",
       "    .dataframe tbody tr th:only-of-type {\n",
       "        vertical-align: middle;\n",
       "    }\n",
       "\n",
       "    .dataframe tbody tr th {\n",
       "        vertical-align: top;\n",
       "    }\n",
       "\n",
       "    .dataframe thead th {\n",
       "        text-align: right;\n",
       "    }\n",
       "</style>\n",
       "<table border=\"1\" class=\"dataframe\">\n",
       "  <thead>\n",
       "    <tr style=\"text-align: right;\">\n",
       "      <th></th>\n",
       "      <th>HYG</th>\n",
       "      <th>JNK</th>\n",
       "      <th>LQD</th>\n",
       "    </tr>\n",
       "    <tr>\n",
       "      <th>Date</th>\n",
       "      <th></th>\n",
       "      <th></th>\n",
       "      <th></th>\n",
       "    </tr>\n",
       "  </thead>\n",
       "  <tbody>\n",
       "    <tr>\n",
       "      <th>2018-10-08</th>\n",
       "      <td>-0.002231</td>\n",
       "      <td>-0.002253</td>\n",
       "      <td>-0.001063</td>\n",
       "    </tr>\n",
       "    <tr>\n",
       "      <th>2018-10-09</th>\n",
       "      <td>0.001527</td>\n",
       "      <td>0.001127</td>\n",
       "      <td>0.002832</td>\n",
       "    </tr>\n",
       "    <tr>\n",
       "      <th>2018-10-10</th>\n",
       "      <td>-0.007182</td>\n",
       "      <td>-0.007916</td>\n",
       "      <td>-0.002744</td>\n",
       "    </tr>\n",
       "    <tr>\n",
       "      <th>2018-10-11</th>\n",
       "      <td>0.000826</td>\n",
       "      <td>0.002551</td>\n",
       "      <td>0.004157</td>\n",
       "    </tr>\n",
       "    <tr>\n",
       "      <th>2018-10-12</th>\n",
       "      <td>0.005300</td>\n",
       "      <td>0.005084</td>\n",
       "      <td>0.000176</td>\n",
       "    </tr>\n",
       "    <tr>\n",
       "      <th>...</th>\n",
       "      <td>...</td>\n",
       "      <td>...</td>\n",
       "      <td>...</td>\n",
       "    </tr>\n",
       "    <tr>\n",
       "      <th>2023-09-28</th>\n",
       "      <td>0.004752</td>\n",
       "      <td>0.004321</td>\n",
       "      <td>0.001762</td>\n",
       "    </tr>\n",
       "    <tr>\n",
       "      <th>2023-09-29</th>\n",
       "      <td>-0.001491</td>\n",
       "      <td>-0.000664</td>\n",
       "      <td>-0.002154</td>\n",
       "    </tr>\n",
       "    <tr>\n",
       "      <th>2023-10-02</th>\n",
       "      <td>-0.006087</td>\n",
       "      <td>-0.006126</td>\n",
       "      <td>-0.009204</td>\n",
       "    </tr>\n",
       "    <tr>\n",
       "      <th>2023-10-03</th>\n",
       "      <td>-0.010204</td>\n",
       "      <td>-0.010238</td>\n",
       "      <td>-0.011587</td>\n",
       "    </tr>\n",
       "    <tr>\n",
       "      <th>2023-10-04</th>\n",
       "      <td>0.005115</td>\n",
       "      <td>0.003725</td>\n",
       "      <td>0.008703</td>\n",
       "    </tr>\n",
       "  </tbody>\n",
       "</table>\n",
       "<p>1256 rows × 3 columns</p>\n",
       "</div>"
      ],
      "text/plain": [
       "                 HYG       JNK       LQD\n",
       "Date                                    \n",
       "2018-10-08 -0.002231 -0.002253 -0.001063\n",
       "2018-10-09  0.001527  0.001127  0.002832\n",
       "2018-10-10 -0.007182 -0.007916 -0.002744\n",
       "2018-10-11  0.000826  0.002551  0.004157\n",
       "2018-10-12  0.005300  0.005084  0.000176\n",
       "...              ...       ...       ...\n",
       "2023-09-28  0.004752  0.004321  0.001762\n",
       "2023-09-29 -0.001491 -0.000664 -0.002154\n",
       "2023-10-02 -0.006087 -0.006126 -0.009204\n",
       "2023-10-03 -0.010204 -0.010238 -0.011587\n",
       "2023-10-04  0.005115  0.003725  0.008703\n",
       "\n",
       "[1256 rows x 3 columns]"
      ]
     },
     "execution_count": 62,
     "metadata": {},
     "output_type": "execute_result"
    }
   ],
   "source": [
    "#2c\n",
    "#estimate the carry\n",
    "returns"
   ]
  },
  {
   "cell_type": "code",
   "execution_count": 63,
   "id": "8b088cf6",
   "metadata": {},
   "outputs": [],
   "source": [
    "rf = np.log(1+0.0475)/252\n",
    "n = len(returns[\"HYG\"])-1\n",
    "carry_hyg = (returns[\"HYG\"].mean() - rf) * n\n",
    "carry_jnk = (returns[\"JNK\"].mean() - rf) * n\n",
    "carry_lqd = (returns[\"LQD\"].mean() - rf) * n\n",
    "vol = returns.std()*np.sqrt(n)"
   ]
  },
  {
   "cell_type": "code",
   "execution_count": 66,
   "id": "86686443",
   "metadata": {},
   "outputs": [],
   "source": [
    "spy = pd.read_csv(\"/Users/estelle/Desktop/MF772/SPY.csv\")\n",
    "spy_return = np.log(1 + spy[\"Adj Close\"].pct_change()).dropna()\n",
    "carry_spy = (spy_return.mean()- rf) * n\n",
    "vol_spy = spy_return.std()*np.sqrt(len(spy_return)-1)"
   ]
  },
  {
   "cell_type": "code",
   "execution_count": 68,
   "id": "7c70f60e",
   "metadata": {},
   "outputs": [],
   "source": [
    "sharp_hyg = carry_hyg/vol[\"HYG\"]\n",
    "sharp_jnk = carry_jnk/vol[\"JNK\"]\n",
    "sharp_lqd = carry_lqd/vol[\"LQD\"]\n",
    "sharp_spy = carry_spy/vol_spy"
   ]
  },
  {
   "cell_type": "code",
   "execution_count": 71,
   "id": "f4c5c485",
   "metadata": {},
   "outputs": [
    {
     "data": {
      "text/html": [
       "<div>\n",
       "<style scoped>\n",
       "    .dataframe tbody tr th:only-of-type {\n",
       "        vertical-align: middle;\n",
       "    }\n",
       "\n",
       "    .dataframe tbody tr th {\n",
       "        vertical-align: top;\n",
       "    }\n",
       "\n",
       "    .dataframe thead th {\n",
       "        text-align: right;\n",
       "    }\n",
       "</style>\n",
       "<table border=\"1\" class=\"dataframe\">\n",
       "  <thead>\n",
       "    <tr style=\"text-align: right;\">\n",
       "      <th></th>\n",
       "      <th>Carry</th>\n",
       "      <th>Volatility</th>\n",
       "      <th>Sharp Ratio</th>\n",
       "    </tr>\n",
       "    <tr>\n",
       "      <th>ETF</th>\n",
       "      <th></th>\n",
       "      <th></th>\n",
       "      <th></th>\n",
       "    </tr>\n",
       "  </thead>\n",
       "  <tbody>\n",
       "    <tr>\n",
       "      <th>HYG</th>\n",
       "      <td>-0.142055</td>\n",
       "      <td>0.235568</td>\n",
       "      <td>-0.603030</td>\n",
       "    </tr>\n",
       "    <tr>\n",
       "      <th>JNK</th>\n",
       "      <td>-0.141928</td>\n",
       "      <td>0.235552</td>\n",
       "      <td>-0.602536</td>\n",
       "    </tr>\n",
       "    <tr>\n",
       "      <th>LQD</th>\n",
       "      <td>-0.192869</td>\n",
       "      <td>0.238358</td>\n",
       "      <td>-0.809156</td>\n",
       "    </tr>\n",
       "    <tr>\n",
       "      <th>SPY</th>\n",
       "      <td>0.240923</td>\n",
       "      <td>0.481927</td>\n",
       "      <td>0.499917</td>\n",
       "    </tr>\n",
       "  </tbody>\n",
       "</table>\n",
       "</div>"
      ],
      "text/plain": [
       "        Carry  Volatility  Sharp Ratio\n",
       "ETF                                   \n",
       "HYG -0.142055    0.235568    -0.603030\n",
       "JNK -0.141928    0.235552    -0.602536\n",
       "LQD -0.192869    0.238358    -0.809156\n",
       "SPY  0.240923    0.481927     0.499917"
      ]
     },
     "execution_count": 71,
     "metadata": {},
     "output_type": "execute_result"
    }
   ],
   "source": [
    "results = [[\"HYG\",carry_hyg,vol[\"HYG\"],sharp_hyg],[\"JNK\",carry_jnk,vol[\"JNK\"],sharp_jnk],\n",
    "           [\"LQD\",carry_lqd,vol[\"LQD\"],sharp_lqd],[\"SPY\",carry_spy,vol_spy,sharp_spy]]\n",
    "results = pd.DataFrame(results,columns=[\"ETF\",\"Carry\",\"Volatility\",\"Sharp Ratio\"])\n",
    "results = results.set_index(\"ETF\")\n",
    "results"
   ]
  },
  {
   "cell_type": "markdown",
   "id": "5761f8ff",
   "metadata": {},
   "source": [
    "Rank the ETF by their relative carry: JNK,HYG,LQD. All of these three ETFs have negative carry while SPY has a positive carry. All of these ETFs have a lower volatility than SPY."
   ]
  },
  {
   "cell_type": "markdown",
   "id": "d35bb5f3",
   "metadata": {},
   "source": [
    "#### 2d\n",
    "For HYG: The call option with strike price 69 has the implied volatility 49.22% which is significantly higher than the realized volatility; the call option with strike price 72.5 has the implied volatility 11.43% which is lower than the realized volatility. the put option has a higher implied volatility when the strike price increase. This high implied volatility could indicate that market participants expect significant price fluctuations in the near future. And if investors are more concerned about potential downside risk, they may be willing to pay higher premiums for put options with higher strike prices, which offer more protection in case of a significant drop in the stock price.\n",
    "\n",
    "For JNK: The put option with strike price 89.5 and 90 have a lower implied volatility compare to the realized volatility; the call option has the implied volatility 31.54% which is higher than the realized volatility.\n",
    "\n",
    "For LQD: The implied volatility for both put and call option increases as the strike price goes up. That might because the price of LQD is relatively stable in a range. "
   ]
  },
  {
   "cell_type": "code",
   "execution_count": null,
   "id": "ab9897e7",
   "metadata": {},
   "outputs": [],
   "source": []
  }
 ],
 "metadata": {
  "kernelspec": {
   "display_name": "Python 3 (ipykernel)",
   "language": "python",
   "name": "python3"
  },
  "language_info": {
   "codemirror_mode": {
    "name": "ipython",
    "version": 3
   },
   "file_extension": ".py",
   "mimetype": "text/x-python",
   "name": "python",
   "nbconvert_exporter": "python",
   "pygments_lexer": "ipython3",
   "version": "3.9.12"
  }
 },
 "nbformat": 4,
 "nbformat_minor": 5
}
